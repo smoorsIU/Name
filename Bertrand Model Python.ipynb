{
 "cells": [
  {
   "cell_type": "code",
   "execution_count": 21,
   "metadata": {
    "collapsed": true
   },
   "outputs": [],
   "source": [
    "#Consider two traders holding securities with a cost function: MC = 100\n",
    "#Demand for these securities can be represented Q = 500 - P"
   ]
  },
  {
   "cell_type": "code",
   "execution_count": 22,
   "metadata": {
    "collapsed": true
   },
   "outputs": [],
   "source": [
    "#Assumptions:\n",
    "#Two \"firms\" and \"firms\" are individual traders\n",
    "#Each trader chooses price simultaneously\n",
    "#Homogeneous goods: both traders are trading identical securities\n",
    "#Linear demand\n",
    "#Constant marginal cost"
   ]
  },
  {
   "cell_type": "code",
   "execution_count": 23,
   "metadata": {
    "collapsed": true
   },
   "outputs": [],
   "source": [
    "import matplotlib.pyplot as plt\n",
    "import numpy as np\n",
    "import pandas as pd"
   ]
  },
  {
   "cell_type": "code",
   "execution_count": 24,
   "metadata": {
    "collapsed": true
   },
   "outputs": [],
   "source": [
    "import pandas as pd"
   ]
  },
  {
   "cell_type": "code",
   "execution_count": 25,
   "metadata": {
    "collapsed": true
   },
   "outputs": [],
   "source": [
    "from sympy import Symbol"
   ]
  },
  {
   "cell_type": "code",
   "execution_count": 24,
   "metadata": {
    "collapsed": false
   },
   "outputs": [],
   "source": [
    "MC = 100 #marginal cost: the trader's cost basis for q sercurities \n",
    "Price1 = 106 #this is the price that trader1 selects \n",
    "Price2 = 105 #this is the price that trader2 selects\n",
    "epsilon = 1 #a trader will undercut her competition by the value 'epsilon'\n",
    "intercept = 500 #y intercept of the demand function\n",
    "slope = 1 #slope of the demand function \n",
    "Pmarket =min(Price1, Price2) #the lesser of the two trader's selected prices \n",
    "Q = intercept - slope*Pmarket #the demand function Q = 500 - P as it appears in python"
   ]
  },
  {
   "cell_type": "code",
   "execution_count": 25,
   "metadata": {
    "collapsed": false
   },
   "outputs": [],
   "source": [
    "#The first step in setting up a Bertrand Model is modeling the demand function for the players \n",
    "#The there are three possible outcomes for each of the traders (Full market share, half market share, no market share)\n",
    "def demandtrader1(Price1, Price2):\n",
    "    if Price1 > Price2: #trader2 undercuts trader1's price, trader1 gets no market \n",
    "        print(0)\n",
    "    elif Price1 == Price2: #both trader1 and trader2 set the same price, therefore they split the market\n",
    "        print((intercept - slope*Pmarket)/2) #market demand is represented here and is then divided by two \n",
    "    elif Price1 < Price2: #trader1 undercuts trader2's price, gettting the entire market\n",
    "        print(intercept - slope*Pmarket) #market demand is represented here"
   ]
  },
  {
   "cell_type": "code",
   "execution_count": 26,
   "metadata": {
    "collapsed": true
   },
   "outputs": [],
   "source": [
    "#first we defined the contingent demand for trader1, now we define the contingent demand for trader2\n",
    "def demandtrader2(Price1, Price2):\n",
    "    if Price1 < Price2: #trader1 undercuts trader2's price, trader1 gets no market \n",
    "        print(0)\n",
    "    elif Price1 == Price2: #both trader1 and trader2 set the same price, therefore they split the market\n",
    "        print((intercept - slope*Pmarket)/2) #market demand is represented here and is then divided by two\n",
    "    elif Price1 > Price2: #trader1 undercuts trader2's price, gettting the entire market\n",
    "        print(intercept - slope*Pmarket) #market demand is represented here"
   ]
  },
  {
   "cell_type": "code",
   "execution_count": 27,
   "metadata": {
    "collapsed": false
   },
   "outputs": [
    {
     "name": "stdout",
     "output_type": "stream",
     "text": [
      "0\n",
      "395\n"
     ]
    }
   ],
   "source": [
    "demandtrader1(Price1, Price2)\n",
    "demandtrader2(Price1, Price2)"
   ]
  },
  {
   "cell_type": "code",
   "execution_count": 18,
   "metadata": {
    "collapsed": false
   },
   "outputs": [],
   "source": [
    "#we calculate the Marginal Revenue through doubling the slope of the demand function \n",
    "#we then set MR = MC\n",
    "Pmono = (intercept - MC)/(2*slope) "
   ]
  },
  {
   "cell_type": "code",
   "execution_count": 19,
   "metadata": {
    "collapsed": false
   },
   "outputs": [
    {
     "name": "stdout",
     "output_type": "stream",
     "text": [
      "200\n"
     ]
    }
   ],
   "source": [
    "print Pmono"
   ]
  },
  {
   "cell_type": "code",
   "execution_count": 20,
   "metadata": {
    "collapsed": false
   },
   "outputs": [],
   "source": [
    "#Now we create the best response function for Trader1\n",
    "def BR1(Price1, Price2):\n",
    "    if Price2 > Pmono:\n",
    "        print(Pmono), \"- Trader charges the monopolist price\" #Price2 is too high, Trader1 undercuts to Pmono to max profit\n",
    "    elif Price2 > MC and Price2 <= Pmono:\n",
    "        print(Price2 - epsilon), \"- Trader undercut the competition\" \n",
    "    elif Price2 <= MC:\n",
    "        print(MC), \"- Trader minimizes losses by charging marginal cost\" #Both firms will not go below MC, for it would be negative profit"
   ]
  },
  {
   "cell_type": "code",
   "execution_count": 21,
   "metadata": {
    "collapsed": false
   },
   "outputs": [
    {
     "name": "stdout",
     "output_type": "stream",
     "text": [
      "104 - Trader undercut the competition\n"
     ]
    }
   ],
   "source": [
    "BR1(Price1, Price2)"
   ]
  },
  {
   "cell_type": "code",
   "execution_count": 22,
   "metadata": {
    "collapsed": false
   },
   "outputs": [],
   "source": [
    "#Now we create the best response function for Trader2\n",
    "def BR2(Price1, Price2):\n",
    "    if Price1 > Pmono:\n",
    "        print(Pmono), \"- Trader charges the monopolist price\" #Price1 is too high, Trader2 undercuts to Pmono to max profit\n",
    "    elif Price1 > MC and Price1 <= Pmono:\n",
    "        print(Price1 - epsilon), \"- Trader undercut the competition\"\n",
    "    elif Price1 <= MC:\n",
    "        print(MC), \"- Trader minimizes losses by charging marginal cost\" #Both firms will not go below MC, for it would be negative profit"
   ]
  },
  {
   "cell_type": "code",
   "execution_count": 23,
   "metadata": {
    "collapsed": false
   },
   "outputs": [
    {
     "name": "stdout",
     "output_type": "stream",
     "text": [
      "104 - Trader undercut the competition\n"
     ]
    }
   ],
   "source": [
    "BR2(Price1, Price2)"
   ]
  },
  {
   "cell_type": "code",
   "execution_count": 11,
   "metadata": {
    "collapsed": false
   },
   "outputs": [],
   "source": [
    "def NashEQ(BR1, BR2):\n",
    "    if BR1 or BR2 == MC:\n",
    "        print \"This is a Nash Equilibrium\"\n",
    "    else:\n",
    "        print \"Not a Nash, traders will continue to undercut\""
   ]
  },
  {
   "cell_type": "code",
   "execution_count": 12,
   "metadata": {
    "collapsed": false
   },
   "outputs": [
    {
     "name": "stdout",
     "output_type": "stream",
     "text": [
      "This is a Nash Equilibrium\n"
     ]
    }
   ],
   "source": [
    "NashEQ(BR1, BR2)"
   ]
  },
  {
   "cell_type": "code",
   "execution_count": 13,
   "metadata": {
    "collapsed": false
   },
   "outputs": [
    {
     "name": "stdout",
     "output_type": "stream",
     "text": [
      "100 - Trader minimizes losses by charging marginal cost\n",
      "100 - Trader minimizes losses by charging marginal cost\n"
     ]
    }
   ],
   "source": [
    "BR1(Price1, Price2)\n",
    "BR2(Price1, Price2)"
   ]
  },
  {
   "cell_type": "code",
   "execution_count": null,
   "metadata": {
    "collapsed": true
   },
   "outputs": [],
   "source": []
  }
 ],
 "metadata": {
  "anaconda-cloud": {},
  "kernelspec": {
   "display_name": "Python [conda root]",
   "language": "python",
   "name": "conda-root-py"
  },
  "language_info": {
   "codemirror_mode": {
    "name": "ipython",
    "version": 2
   },
   "file_extension": ".py",
   "mimetype": "text/x-python",
   "name": "python",
   "nbconvert_exporter": "python",
   "pygments_lexer": "ipython2",
   "version": "2.7.12"
  }
 },
 "nbformat": 4,
 "nbformat_minor": 1
}
